{
 "cells": [
  {
   "attachments": {},
   "cell_type": "markdown",
   "metadata": {},
   "source": [
    "# Image Decoder examples\n",
    "\n",
    "In this notebook we will show usage examples of different flavors of decoders.image.  You will see, that those variants offer the same functionality for CPU backend (`device=\"cpu\"`) and gpu backend (`device=\"gpu_id\"` - where the decoding is accelerated by GPU).\n",
    "\n",
    "Note that we define all the examples to accept the device parameter, so we can later change it easily."
   ]
  },
  {
   "attachments": {},
   "cell_type": "markdown",
   "metadata": {},
   "source": [
    "## Common code\n",
    "\n",
    "First, let's define some common function that allows us to easily show the images."
   ]
  },
  {
   "cell_type": "code",
   "execution_count": null,
   "metadata": {},
   "outputs": [],
   "source": [
    "from amd.rocal.pipeline import pipeline_def\n",
    "import cupy as cp\n",
    "from amd.rocal.plugin.generic import ROCALClassificationIterator\n",
    "import amd.rocal.fn as fn\n",
    "import amd.rocal.types as types\n",
    "import matplotlib.gridspec as gridspec\n",
    "import matplotlib.pyplot as plt\n",
    "%matplotlib inline\n",
    "\n",
    "seed = 1549361629\n",
    "image_dir = \"../../../../data/images/AMD-tinyDataSet/\"\n",
    "batch_size = 4\n",
    "gpu_id = 0\n",
    "\n",
    "def show_images(image_batch, device):\n",
    "    columns = 4\n",
    "    rows = (batch_size + 1) // (columns)\n",
    "    fig = plt.figure(figsize = (32,(32 // columns) * rows))\n",
    "    gs = gridspec.GridSpec(rows, columns)\n",
    "    for j in range(rows*columns):\n",
    "        plt.subplot(gs[j])\n",
    "        img = image_batch[j]\n",
    "        plt.axis(\"off\")\n",
    "        if device == \"cpu\":\n",
    "            plt.imshow(img)\n",
    "        else:\n",
    "            plt.imshow(cp.asnumpy(img))\n",
    "\n",
    "\n",
    "def show_pipeline_output(pipe, device, device_id=0):\n",
    "    pipe.build()\n",
    "    data_loader = ROCALClassificationIterator(pipe, device, device_id)\n",
    "    images = next(iter(data_loader))\n",
    "    show_images(images[0], device)\n"
   ]
  },
  {
   "attachments": {},
   "cell_type": "markdown",
   "metadata": {},
   "source": [
    "## Image Decoder (CPU)\n",
    "\n",
    "`decoders.image` decodes images stored in common formats (including JPEG, JPEG2000, TIFF, PNG)"
   ]
  },
  {
   "cell_type": "code",
   "execution_count": null,
   "metadata": {},
   "outputs": [],
   "source": [
    "@pipeline_def(seed=seed)\n",
    "def image_decoder_pipeline(device=\"cpu\"):\n",
    "    jpegs, labels = fn.readers.file(file_root=image_dir, shard_id=0, num_shards=1, random_shuffle=False)\n",
    "    images = fn.decoders.image(jpegs, file_root=image_dir, device=device, output_type=types.RGB, shard_id=0, num_shards=1, random_shuffle=False)\n",
    "    return fn.resize(images, device=device, resize_x=300, resize_y=300)\n",
    "\n",
    "pipe = image_decoder_pipeline(batch_size=batch_size, num_threads=1, device_id=gpu_id, rocal_cpu=True, tensor_layout=types.NHWC, \n",
    "                            reverse_channels=True, mean = [0, 0, 0], std=[255,255,255], device=\"cpu\")\n",
    "show_pipeline_output(pipe, device=\"cpu\", device_id=gpu_id)"
   ]
  },
  {
   "attachments": {},
   "cell_type": "markdown",
   "metadata": {},
   "source": [
    "## Image Decoder (CPU) with Random Cropping Window Size and Anchor\n",
    "\n",
    "`decoders.image_random_crop` produces a randomly cropped image. The random cropping window is produced based on a given aspect ratio and area distributions."
   ]
  },
  {
   "cell_type": "code",
   "execution_count": null,
   "metadata": {},
   "outputs": [],
   "source": [
    "@pipeline_def(seed=seed)\n",
    "def image_decoder_random_crop_pipeline(device=\"cpu\"):\n",
    "    jpegs, labels = fn.readers.file(file_root=image_dir, shard_id=0, num_shards=1, random_shuffle=False)\n",
    "    images = fn.decoders.image_slice(jpegs, file_root=image_dir, \n",
    "                                     device=device,\n",
    "                                     output_type=types.RGB,\n",
    "                                     random_shuffle=True)\n",
    "    return fn.resize(images, device=device, resize_x=300, resize_y=300)\n",
    "    \n",
    "pipe = image_decoder_random_crop_pipeline(batch_size=batch_size, num_threads=1, device_id=gpu_id, rocal_cpu=True, tensor_layout=types.NHWC, \n",
    "                                          reverse_channels=True, mean=[0,0,0], std = [255,255,255], device=\"cpu\")\n",
    "show_pipeline_output(pipe, device=\"cpu\")\n"
   ]
  },
  {
   "attachments": {},
   "cell_type": "markdown",
   "metadata": {},
   "source": [
    "## Image Decoder (GPU)\n",
    "\n",
    "`decoders.image` with GPU backend offloads JPEG decoding to the dedicated hardware unit, if present.\n",
    "\n",
    "Note, that we repeat the examples shown above, changing only the device parameter. Both the operator and its other parameters stay the same and offer the same functionality - but now we use GPU acceleration.\n"
   ]
  },
  {
   "cell_type": "code",
   "execution_count": null,
   "metadata": {},
   "outputs": [],
   "source": [
    "pipe = image_decoder_pipeline(batch_size=batch_size, num_threads=1, device_id=gpu_id, rocal_cpu=True, tensor_layout=types.NHWC, \n",
    "        reverse_channels=True, mean=[0,0,0], std = [255,255,255], device=\"gpu\")\n",
    "show_pipeline_output(pipe, device=\"gpu\")"
   ]
  },
  {
   "attachments": {},
   "cell_type": "markdown",
   "metadata": {},
   "source": [
    "## Image Decoder (GPU) with Random Cropping Window Size and Anchor\n",
    "\n",
    "`decoders.image_random_crop` produces a randomly cropped image. The random cropping window is produced based on a given aspect ratio and area distributions."
   ]
  },
  {
   "cell_type": "code",
   "execution_count": null,
   "metadata": {},
   "outputs": [],
   "source": [
    "pipe = image_decoder_random_crop_pipeline(batch_size=batch_size, num_threads=1, device_id=gpu_id, rocal_cpu=True, tensor_layout=types.NHWC, reverse_channels=True, \n",
    "                                          mean=[0,0,0], std = [255,255,255], device=\"gpu\")\n",
    "show_pipeline_output(pipe, device=\"gpu\")"
   ]
  }
 ],
 "metadata": {
  "interpreter": {
   "hash": "31f2aee4e71d21fbe5cf8b01ff0e069b9275f58929596ceb00d14d90e3e16cd6"
  },
  "kernelspec": {
   "display_name": "Python 3.10.6 64-bit",
   "name": "python3"
  },
  "language_info": {
   "codemirror_mode": {
    "name": "ipython",
    "version": 3
   },
   "file_extension": ".py",
   "mimetype": "text/x-python",
   "name": "python",
   "nbconvert_exporter": "python",
   "pygments_lexer": "ipython3",
   "version": "3.10.6"
  },
  "vscode": {
   "interpreter": {
    "hash": "31f2aee4e71d21fbe5cf8b01ff0e069b9275f58929596ceb00d14d90e3e16cd6"
   }
  }
 },
 "nbformat": 4,
 "nbformat_minor": 2
}
